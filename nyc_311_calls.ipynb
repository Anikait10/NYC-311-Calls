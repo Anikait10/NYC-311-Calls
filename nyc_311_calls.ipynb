{
 "cells": [
  {
   "cell_type": "markdown",
   "id": "26bd0579-3e2b-4ab6-b413-87ae9d37192d",
   "metadata": {},
   "source": [
    "# NYC 311 CALLS\n",
    "\n",
    "URL: https://data.cityofnewyork.us/Social-Services/311-Service-Requests-from-2010-to-Present/erm2-nwe9"
   ]
  },
  {
   "cell_type": "code",
   "execution_count": 1,
   "id": "3e7ec0e2-f51f-4c99-9de5-6921d9a94646",
   "metadata": {
    "tags": []
   },
   "outputs": [],
   "source": [
    "import pandas as pd"
   ]
  },
  {
   "cell_type": "markdown",
   "id": "1c833529",
   "metadata": {},
   "source": [
    "## Data Ingestion and Prep\n",
    "### Load Data"
   ]
  },
  {
   "cell_type": "code",
   "execution_count": 2,
   "id": "705cdf18-b1d4-493c-80df-4b49a11b8762",
   "metadata": {
    "tags": []
   },
   "outputs": [
    {
     "ename": "FileNotFoundError",
     "evalue": "[Errno 2] No such file or directory: 'shared/Project-3_NYC_311_Calls.pkl'",
     "output_type": "error",
     "traceback": [
      "\u001b[0;31m---------------------------------------------------------------------------\u001b[0m",
      "\u001b[0;31mFileNotFoundError\u001b[0m                         Traceback (most recent call last)",
      "Cell \u001b[0;32mIn[2], line 1\u001b[0m\n\u001b[0;32m----> 1\u001b[0m df \u001b[38;5;241m=\u001b[39m pd\u001b[38;5;241m.\u001b[39mread_pickle(\u001b[38;5;124m'\u001b[39m\u001b[38;5;124mshared/Project-3_NYC_311_Calls.pkl\u001b[39m\u001b[38;5;124m'\u001b[39m)\n",
      "File \u001b[0;32m~/anaconda3/lib/python3.11/site-packages/pandas/io/pickle.py:179\u001b[0m, in \u001b[0;36mread_pickle\u001b[0;34m(filepath_or_buffer, compression, storage_options)\u001b[0m\n\u001b[1;32m    115\u001b[0m \u001b[38;5;250m\u001b[39m\u001b[38;5;124;03m\"\"\"\u001b[39;00m\n\u001b[1;32m    116\u001b[0m \u001b[38;5;124;03mLoad pickled pandas object (or any object) from file.\u001b[39;00m\n\u001b[1;32m    117\u001b[0m \n\u001b[0;32m   (...)\u001b[0m\n\u001b[1;32m    176\u001b[0m \u001b[38;5;124;03m4    4    9\u001b[39;00m\n\u001b[1;32m    177\u001b[0m \u001b[38;5;124;03m\"\"\"\u001b[39;00m\n\u001b[1;32m    178\u001b[0m excs_to_catch \u001b[38;5;241m=\u001b[39m (\u001b[38;5;167;01mAttributeError\u001b[39;00m, \u001b[38;5;167;01mImportError\u001b[39;00m, \u001b[38;5;167;01mModuleNotFoundError\u001b[39;00m, \u001b[38;5;167;01mTypeError\u001b[39;00m)\n\u001b[0;32m--> 179\u001b[0m \u001b[38;5;28;01mwith\u001b[39;00m get_handle(\n\u001b[1;32m    180\u001b[0m     filepath_or_buffer,\n\u001b[1;32m    181\u001b[0m     \u001b[38;5;124m\"\u001b[39m\u001b[38;5;124mrb\u001b[39m\u001b[38;5;124m\"\u001b[39m,\n\u001b[1;32m    182\u001b[0m     compression\u001b[38;5;241m=\u001b[39mcompression,\n\u001b[1;32m    183\u001b[0m     is_text\u001b[38;5;241m=\u001b[39m\u001b[38;5;28;01mFalse\u001b[39;00m,\n\u001b[1;32m    184\u001b[0m     storage_options\u001b[38;5;241m=\u001b[39mstorage_options,\n\u001b[1;32m    185\u001b[0m ) \u001b[38;5;28;01mas\u001b[39;00m handles:\n\u001b[1;32m    186\u001b[0m     \u001b[38;5;66;03m# 1) try standard library Pickle\u001b[39;00m\n\u001b[1;32m    187\u001b[0m     \u001b[38;5;66;03m# 2) try pickle_compat (older pandas version) to handle subclass changes\u001b[39;00m\n\u001b[1;32m    188\u001b[0m     \u001b[38;5;66;03m# 3) try pickle_compat with latin-1 encoding upon a UnicodeDecodeError\u001b[39;00m\n\u001b[1;32m    190\u001b[0m     \u001b[38;5;28;01mtry\u001b[39;00m:\n\u001b[1;32m    191\u001b[0m         \u001b[38;5;66;03m# TypeError for Cython complaints about object.__new__ vs Tick.__new__\u001b[39;00m\n\u001b[1;32m    192\u001b[0m         \u001b[38;5;28;01mtry\u001b[39;00m:\n",
      "File \u001b[0;32m~/anaconda3/lib/python3.11/site-packages/pandas/io/common.py:868\u001b[0m, in \u001b[0;36mget_handle\u001b[0;34m(path_or_buf, mode, encoding, compression, memory_map, is_text, errors, storage_options)\u001b[0m\n\u001b[1;32m    859\u001b[0m         handle \u001b[38;5;241m=\u001b[39m \u001b[38;5;28mopen\u001b[39m(\n\u001b[1;32m    860\u001b[0m             handle,\n\u001b[1;32m    861\u001b[0m             ioargs\u001b[38;5;241m.\u001b[39mmode,\n\u001b[0;32m   (...)\u001b[0m\n\u001b[1;32m    864\u001b[0m             newline\u001b[38;5;241m=\u001b[39m\u001b[38;5;124m\"\u001b[39m\u001b[38;5;124m\"\u001b[39m,\n\u001b[1;32m    865\u001b[0m         )\n\u001b[1;32m    866\u001b[0m     \u001b[38;5;28;01melse\u001b[39;00m:\n\u001b[1;32m    867\u001b[0m         \u001b[38;5;66;03m# Binary mode\u001b[39;00m\n\u001b[0;32m--> 868\u001b[0m         handle \u001b[38;5;241m=\u001b[39m \u001b[38;5;28mopen\u001b[39m(handle, ioargs\u001b[38;5;241m.\u001b[39mmode)\n\u001b[1;32m    869\u001b[0m     handles\u001b[38;5;241m.\u001b[39mappend(handle)\n\u001b[1;32m    871\u001b[0m \u001b[38;5;66;03m# Convert BytesIO or file objects passed with an encoding\u001b[39;00m\n",
      "\u001b[0;31mFileNotFoundError\u001b[0m: [Errno 2] No such file or directory: 'shared/Project-3_NYC_311_Calls.pkl'"
     ]
    }
   ],
   "source": [
    "df = pd.read_pickle('shared/Project-3_NYC_311_Calls.pkl')\n",
    "\n"
   ]
  },
  {
   "cell_type": "code",
   "execution_count": 3,
   "id": "94d09bf3-77b7-47ae-85e9-e7ce5026b793",
   "metadata": {
    "tags": []
   },
   "outputs": [
    {
     "data": {
      "text/html": [
       "<div>\n",
       "<style scoped>\n",
       "    .dataframe tbody tr th:only-of-type {\n",
       "        vertical-align: middle;\n",
       "    }\n",
       "\n",
       "    .dataframe tbody tr th {\n",
       "        vertical-align: top;\n",
       "    }\n",
       "\n",
       "    .dataframe thead th {\n",
       "        text-align: right;\n",
       "    }\n",
       "</style>\n",
       "<table border=\"1\" class=\"dataframe\">\n",
       "  <thead>\n",
       "    <tr style=\"text-align: right;\">\n",
       "      <th></th>\n",
       "      <th>Unique Key</th>\n",
       "      <th>Created Date</th>\n",
       "      <th>Agency</th>\n",
       "      <th>Agency Name</th>\n",
       "      <th>Complaint Type</th>\n",
       "      <th>Descriptor</th>\n",
       "      <th>Location Type</th>\n",
       "      <th>Incident Zip</th>\n",
       "      <th>City</th>\n",
       "      <th>Resolution Description</th>\n",
       "      <th>Borough</th>\n",
       "      <th>Open Data Channel Type</th>\n",
       "    </tr>\n",
       "  </thead>\n",
       "  <tbody>\n",
       "    <tr>\n",
       "      <th>0</th>\n",
       "      <td>20184537</td>\n",
       "      <td>2011-04-06 00:00:00</td>\n",
       "      <td>HPD</td>\n",
       "      <td>Department of Housing Preservation and Develop...</td>\n",
       "      <td>HEATING</td>\n",
       "      <td>HEAT</td>\n",
       "      <td>RESIDENTIAL BUILDING</td>\n",
       "      <td>10002.0</td>\n",
       "      <td>NEW YORK</td>\n",
       "      <td>More than one complaint was received for this ...</td>\n",
       "      <td>MANHATTAN</td>\n",
       "      <td>UNKNOWN</td>\n",
       "    </tr>\n",
       "    <tr>\n",
       "      <th>1</th>\n",
       "      <td>20184538</td>\n",
       "      <td>2011-04-06 00:00:00</td>\n",
       "      <td>HPD</td>\n",
       "      <td>Department of Housing Preservation and Develop...</td>\n",
       "      <td>GENERAL CONSTRUCTION</td>\n",
       "      <td>WINDOWS</td>\n",
       "      <td>RESIDENTIAL BUILDING</td>\n",
       "      <td>11236.0</td>\n",
       "      <td>BROOKLYN</td>\n",
       "      <td>The Department of Housing Preservation and Dev...</td>\n",
       "      <td>BROOKLYN</td>\n",
       "      <td>UNKNOWN</td>\n",
       "    </tr>\n",
       "    <tr>\n",
       "      <th>2</th>\n",
       "      <td>20184539</td>\n",
       "      <td>2011-04-06 00:00:00</td>\n",
       "      <td>HPD</td>\n",
       "      <td>Department of Housing Preservation and Develop...</td>\n",
       "      <td>PAINT - PLASTER</td>\n",
       "      <td>WALLS</td>\n",
       "      <td>RESIDENTIAL BUILDING</td>\n",
       "      <td>10460.0</td>\n",
       "      <td>BRONX</td>\n",
       "      <td>The Department of Housing Preservation and Dev...</td>\n",
       "      <td>BRONX</td>\n",
       "      <td>UNKNOWN</td>\n",
       "    </tr>\n",
       "    <tr>\n",
       "      <th>3</th>\n",
       "      <td>54732265</td>\n",
       "      <td>2022-07-08 11:14:43</td>\n",
       "      <td>DSNY</td>\n",
       "      <td>Department of Sanitation</td>\n",
       "      <td>Dirty Condition</td>\n",
       "      <td>Trash</td>\n",
       "      <td>Sidewalk</td>\n",
       "      <td>10467.0</td>\n",
       "      <td>BRONX</td>\n",
       "      <td>The Department of Sanitation investigated this...</td>\n",
       "      <td>BRONX</td>\n",
       "      <td>PHONE</td>\n",
       "    </tr>\n",
       "    <tr>\n",
       "      <th>4</th>\n",
       "      <td>20184540</td>\n",
       "      <td>2011-04-06 00:00:00</td>\n",
       "      <td>HPD</td>\n",
       "      <td>Department of Housing Preservation and Develop...</td>\n",
       "      <td>NONCONST</td>\n",
       "      <td>VERMIN</td>\n",
       "      <td>RESIDENTIAL BUILDING</td>\n",
       "      <td>10460.0</td>\n",
       "      <td>BRONX</td>\n",
       "      <td>The Department of Housing Preservation and Dev...</td>\n",
       "      <td>BRONX</td>\n",
       "      <td>UNKNOWN</td>\n",
       "    </tr>\n",
       "    <tr>\n",
       "      <th>...</th>\n",
       "      <td>...</td>\n",
       "      <td>...</td>\n",
       "      <td>...</td>\n",
       "      <td>...</td>\n",
       "      <td>...</td>\n",
       "      <td>...</td>\n",
       "      <td>...</td>\n",
       "      <td>...</td>\n",
       "      <td>...</td>\n",
       "      <td>...</td>\n",
       "      <td>...</td>\n",
       "      <td>...</td>\n",
       "    </tr>\n",
       "    <tr>\n",
       "      <th>33780972</th>\n",
       "      <td>20184532</td>\n",
       "      <td>2011-04-06 00:00:00</td>\n",
       "      <td>HPD</td>\n",
       "      <td>Department of Housing Preservation and Develop...</td>\n",
       "      <td>HEATING</td>\n",
       "      <td>HEAT</td>\n",
       "      <td>RESIDENTIAL BUILDING</td>\n",
       "      <td>10468</td>\n",
       "      <td>BRONX</td>\n",
       "      <td>The Department of Housing Preservation and Dev...</td>\n",
       "      <td>BRONX</td>\n",
       "      <td>UNKNOWN</td>\n",
       "    </tr>\n",
       "    <tr>\n",
       "      <th>33780973</th>\n",
       "      <td>20184533</td>\n",
       "      <td>2011-04-06 00:00:00</td>\n",
       "      <td>HPD</td>\n",
       "      <td>Department of Housing Preservation and Develop...</td>\n",
       "      <td>HEATING</td>\n",
       "      <td>HEAT</td>\n",
       "      <td>RESIDENTIAL BUILDING</td>\n",
       "      <td>10018</td>\n",
       "      <td>NEW YORK</td>\n",
       "      <td>More than one complaint was received for this ...</td>\n",
       "      <td>MANHATTAN</td>\n",
       "      <td>UNKNOWN</td>\n",
       "    </tr>\n",
       "    <tr>\n",
       "      <th>33780974</th>\n",
       "      <td>20184534</td>\n",
       "      <td>2011-04-06 00:00:00</td>\n",
       "      <td>HPD</td>\n",
       "      <td>Department of Housing Preservation and Develop...</td>\n",
       "      <td>GENERAL CONSTRUCTION</td>\n",
       "      <td>STAIRS</td>\n",
       "      <td>RESIDENTIAL BUILDING</td>\n",
       "      <td>10460</td>\n",
       "      <td>BRONX</td>\n",
       "      <td>The Department of Housing Preservation and Dev...</td>\n",
       "      <td>BRONX</td>\n",
       "      <td>UNKNOWN</td>\n",
       "    </tr>\n",
       "    <tr>\n",
       "      <th>33780975</th>\n",
       "      <td>20184535</td>\n",
       "      <td>2011-04-06 00:00:00</td>\n",
       "      <td>HPD</td>\n",
       "      <td>Department of Housing Preservation and Develop...</td>\n",
       "      <td>GENERAL CONSTRUCTION</td>\n",
       "      <td>GAS</td>\n",
       "      <td>RESIDENTIAL BUILDING</td>\n",
       "      <td>11236</td>\n",
       "      <td>BROOKLYN</td>\n",
       "      <td>The Department of Housing Preservation and Dev...</td>\n",
       "      <td>BROOKLYN</td>\n",
       "      <td>UNKNOWN</td>\n",
       "    </tr>\n",
       "    <tr>\n",
       "      <th>33780976</th>\n",
       "      <td>20184536</td>\n",
       "      <td>2011-04-06 00:00:00</td>\n",
       "      <td>HPD</td>\n",
       "      <td>Department of Housing Preservation and Develop...</td>\n",
       "      <td>PLUMBING</td>\n",
       "      <td>WATER-LEAKS</td>\n",
       "      <td>RESIDENTIAL BUILDING</td>\n",
       "      <td>11236</td>\n",
       "      <td>BROOKLYN</td>\n",
       "      <td>The Department of Housing Preservation and Dev...</td>\n",
       "      <td>BROOKLYN</td>\n",
       "      <td>UNKNOWN</td>\n",
       "    </tr>\n",
       "  </tbody>\n",
       "</table>\n",
       "<p>33780977 rows × 12 columns</p>\n",
       "</div>"
      ],
      "text/plain": [
       "          Unique Key        Created Date Agency  \\\n",
       "0           20184537 2011-04-06 00:00:00    HPD   \n",
       "1           20184538 2011-04-06 00:00:00    HPD   \n",
       "2           20184539 2011-04-06 00:00:00    HPD   \n",
       "3           54732265 2022-07-08 11:14:43   DSNY   \n",
       "4           20184540 2011-04-06 00:00:00    HPD   \n",
       "...              ...                 ...    ...   \n",
       "33780972    20184532 2011-04-06 00:00:00    HPD   \n",
       "33780973    20184533 2011-04-06 00:00:00    HPD   \n",
       "33780974    20184534 2011-04-06 00:00:00    HPD   \n",
       "33780975    20184535 2011-04-06 00:00:00    HPD   \n",
       "33780976    20184536 2011-04-06 00:00:00    HPD   \n",
       "\n",
       "                                                Agency Name  \\\n",
       "0         Department of Housing Preservation and Develop...   \n",
       "1         Department of Housing Preservation and Develop...   \n",
       "2         Department of Housing Preservation and Develop...   \n",
       "3                                  Department of Sanitation   \n",
       "4         Department of Housing Preservation and Develop...   \n",
       "...                                                     ...   \n",
       "33780972  Department of Housing Preservation and Develop...   \n",
       "33780973  Department of Housing Preservation and Develop...   \n",
       "33780974  Department of Housing Preservation and Develop...   \n",
       "33780975  Department of Housing Preservation and Develop...   \n",
       "33780976  Department of Housing Preservation and Develop...   \n",
       "\n",
       "                Complaint Type   Descriptor         Location Type  \\\n",
       "0                      HEATING         HEAT  RESIDENTIAL BUILDING   \n",
       "1         GENERAL CONSTRUCTION      WINDOWS  RESIDENTIAL BUILDING   \n",
       "2              PAINT - PLASTER        WALLS  RESIDENTIAL BUILDING   \n",
       "3              Dirty Condition        Trash              Sidewalk   \n",
       "4                     NONCONST       VERMIN  RESIDENTIAL BUILDING   \n",
       "...                        ...          ...                   ...   \n",
       "33780972               HEATING         HEAT  RESIDENTIAL BUILDING   \n",
       "33780973               HEATING         HEAT  RESIDENTIAL BUILDING   \n",
       "33780974  GENERAL CONSTRUCTION       STAIRS  RESIDENTIAL BUILDING   \n",
       "33780975  GENERAL CONSTRUCTION          GAS  RESIDENTIAL BUILDING   \n",
       "33780976              PLUMBING  WATER-LEAKS  RESIDENTIAL BUILDING   \n",
       "\n",
       "         Incident Zip      City  \\\n",
       "0             10002.0  NEW YORK   \n",
       "1             11236.0  BROOKLYN   \n",
       "2             10460.0     BRONX   \n",
       "3             10467.0     BRONX   \n",
       "4             10460.0     BRONX   \n",
       "...               ...       ...   \n",
       "33780972        10468     BRONX   \n",
       "33780973        10018  NEW YORK   \n",
       "33780974        10460     BRONX   \n",
       "33780975        11236  BROOKLYN   \n",
       "33780976        11236  BROOKLYN   \n",
       "\n",
       "                                     Resolution Description    Borough  \\\n",
       "0         More than one complaint was received for this ...  MANHATTAN   \n",
       "1         The Department of Housing Preservation and Dev...   BROOKLYN   \n",
       "2         The Department of Housing Preservation and Dev...      BRONX   \n",
       "3         The Department of Sanitation investigated this...      BRONX   \n",
       "4         The Department of Housing Preservation and Dev...      BRONX   \n",
       "...                                                     ...        ...   \n",
       "33780972  The Department of Housing Preservation and Dev...      BRONX   \n",
       "33780973  More than one complaint was received for this ...  MANHATTAN   \n",
       "33780974  The Department of Housing Preservation and Dev...      BRONX   \n",
       "33780975  The Department of Housing Preservation and Dev...   BROOKLYN   \n",
       "33780976  The Department of Housing Preservation and Dev...   BROOKLYN   \n",
       "\n",
       "         Open Data Channel Type  \n",
       "0                       UNKNOWN  \n",
       "1                       UNKNOWN  \n",
       "2                       UNKNOWN  \n",
       "3                         PHONE  \n",
       "4                       UNKNOWN  \n",
       "...                         ...  \n",
       "33780972                UNKNOWN  \n",
       "33780973                UNKNOWN  \n",
       "33780974                UNKNOWN  \n",
       "33780975                UNKNOWN  \n",
       "33780976                UNKNOWN  \n",
       "\n",
       "[33780977 rows x 12 columns]"
      ]
     },
     "execution_count": 3,
     "metadata": {},
     "output_type": "execute_result"
    }
   ],
   "source": [
    "df"
   ]
  },
  {
   "cell_type": "markdown",
   "id": "89107ee6",
   "metadata": {},
   "source": [
    "### Set Index"
   ]
  },
  {
   "cell_type": "code",
   "execution_count": 3,
   "id": "02cea847-0ec8-4393-8168-4a6a64a75ad8",
   "metadata": {
    "tags": []
   },
   "outputs": [],
   "source": [
    "df = df.set_index(pd.DatetimeIndex(df['Created Date']))\n",
    "del df['Created Date']"
   ]
  },
  {
   "cell_type": "markdown",
   "id": "7ae8b539",
   "metadata": {},
   "source": [
    "### Exploratory Data Analysis"
   ]
  },
  {
   "cell_type": "code",
   "execution_count": null,
   "id": "2d493495",
   "metadata": {},
   "outputs": [],
   "source": [
    "df.shape"
   ]
  },
  {
   "cell_type": "code",
   "execution_count": 5,
   "id": "cf8d5a50-44f6-4edf-90fc-db32dfa66827",
   "metadata": {
    "tags": []
   },
   "outputs": [
    {
     "name": "stdout",
     "output_type": "stream",
     "text": [
      "<class 'pandas.core.frame.DataFrame'>\n",
      "DatetimeIndex: 33780977 entries, 2011-04-06 00:00:00 to 2011-04-06 00:00:00\n",
      "Data columns (total 11 columns):\n",
      " #   Column                  Dtype \n",
      "---  ------                  ----- \n",
      " 0   Unique Key              int64 \n",
      " 1   Agency                  object\n",
      " 2   Agency Name             object\n",
      " 3   Complaint Type          object\n",
      " 4   Descriptor              object\n",
      " 5   Location Type           object\n",
      " 6   Incident Zip            object\n",
      " 7   City                    object\n",
      " 8   Resolution Description  object\n",
      " 9   Borough                 object\n",
      " 10  Open Data Channel Type  object\n",
      "dtypes: int64(1), object(10)\n",
      "memory usage: 3.0+ GB\n"
     ]
    }
   ],
   "source": [
    "df.info()"
   ]
  },
  {
   "cell_type": "code",
   "execution_count": 6,
   "id": "1ffa513f-f668-42f8-b028-667cd2560853",
   "metadata": {
    "tags": []
   },
   "outputs": [
    {
     "data": {
      "text/html": [
       "<div>\n",
       "<style scoped>\n",
       "    .dataframe tbody tr th:only-of-type {\n",
       "        vertical-align: middle;\n",
       "    }\n",
       "\n",
       "    .dataframe tbody tr th {\n",
       "        vertical-align: top;\n",
       "    }\n",
       "\n",
       "    .dataframe thead th {\n",
       "        text-align: right;\n",
       "    }\n",
       "</style>\n",
       "<table border=\"1\" class=\"dataframe\">\n",
       "  <thead>\n",
       "    <tr style=\"text-align: right;\">\n",
       "      <th></th>\n",
       "      <th>Unique Key</th>\n",
       "      <th>Agency</th>\n",
       "      <th>Agency Name</th>\n",
       "      <th>Complaint Type</th>\n",
       "      <th>Descriptor</th>\n",
       "      <th>Location Type</th>\n",
       "      <th>Incident Zip</th>\n",
       "      <th>City</th>\n",
       "      <th>Resolution Description</th>\n",
       "      <th>Borough</th>\n",
       "      <th>Open Data Channel Type</th>\n",
       "    </tr>\n",
       "    <tr>\n",
       "      <th>Created Date</th>\n",
       "      <th></th>\n",
       "      <th></th>\n",
       "      <th></th>\n",
       "      <th></th>\n",
       "      <th></th>\n",
       "      <th></th>\n",
       "      <th></th>\n",
       "      <th></th>\n",
       "      <th></th>\n",
       "      <th></th>\n",
       "      <th></th>\n",
       "    </tr>\n",
       "  </thead>\n",
       "  <tbody>\n",
       "    <tr>\n",
       "      <th>2011-04-06 00:00:00</th>\n",
       "      <td>20184537</td>\n",
       "      <td>HPD</td>\n",
       "      <td>Department of Housing Preservation and Develop...</td>\n",
       "      <td>HEATING</td>\n",
       "      <td>HEAT</td>\n",
       "      <td>RESIDENTIAL BUILDING</td>\n",
       "      <td>10002.0</td>\n",
       "      <td>NEW YORK</td>\n",
       "      <td>More than one complaint was received for this ...</td>\n",
       "      <td>MANHATTAN</td>\n",
       "      <td>UNKNOWN</td>\n",
       "    </tr>\n",
       "    <tr>\n",
       "      <th>2011-04-06 00:00:00</th>\n",
       "      <td>20184538</td>\n",
       "      <td>HPD</td>\n",
       "      <td>Department of Housing Preservation and Develop...</td>\n",
       "      <td>GENERAL CONSTRUCTION</td>\n",
       "      <td>WINDOWS</td>\n",
       "      <td>RESIDENTIAL BUILDING</td>\n",
       "      <td>11236.0</td>\n",
       "      <td>BROOKLYN</td>\n",
       "      <td>The Department of Housing Preservation and Dev...</td>\n",
       "      <td>BROOKLYN</td>\n",
       "      <td>UNKNOWN</td>\n",
       "    </tr>\n",
       "    <tr>\n",
       "      <th>2011-04-06 00:00:00</th>\n",
       "      <td>20184539</td>\n",
       "      <td>HPD</td>\n",
       "      <td>Department of Housing Preservation and Develop...</td>\n",
       "      <td>PAINT - PLASTER</td>\n",
       "      <td>WALLS</td>\n",
       "      <td>RESIDENTIAL BUILDING</td>\n",
       "      <td>10460.0</td>\n",
       "      <td>BRONX</td>\n",
       "      <td>The Department of Housing Preservation and Dev...</td>\n",
       "      <td>BRONX</td>\n",
       "      <td>UNKNOWN</td>\n",
       "    </tr>\n",
       "    <tr>\n",
       "      <th>2022-07-08 11:14:43</th>\n",
       "      <td>54732265</td>\n",
       "      <td>DSNY</td>\n",
       "      <td>Department of Sanitation</td>\n",
       "      <td>Dirty Condition</td>\n",
       "      <td>Trash</td>\n",
       "      <td>Sidewalk</td>\n",
       "      <td>10467.0</td>\n",
       "      <td>BRONX</td>\n",
       "      <td>The Department of Sanitation investigated this...</td>\n",
       "      <td>BRONX</td>\n",
       "      <td>PHONE</td>\n",
       "    </tr>\n",
       "    <tr>\n",
       "      <th>2011-04-06 00:00:00</th>\n",
       "      <td>20184540</td>\n",
       "      <td>HPD</td>\n",
       "      <td>Department of Housing Preservation and Develop...</td>\n",
       "      <td>NONCONST</td>\n",
       "      <td>VERMIN</td>\n",
       "      <td>RESIDENTIAL BUILDING</td>\n",
       "      <td>10460.0</td>\n",
       "      <td>BRONX</td>\n",
       "      <td>The Department of Housing Preservation and Dev...</td>\n",
       "      <td>BRONX</td>\n",
       "      <td>UNKNOWN</td>\n",
       "    </tr>\n",
       "  </tbody>\n",
       "</table>\n",
       "</div>"
      ],
      "text/plain": [
       "                     Unique Key Agency  \\\n",
       "Created Date                             \n",
       "2011-04-06 00:00:00    20184537    HPD   \n",
       "2011-04-06 00:00:00    20184538    HPD   \n",
       "2011-04-06 00:00:00    20184539    HPD   \n",
       "2022-07-08 11:14:43    54732265   DSNY   \n",
       "2011-04-06 00:00:00    20184540    HPD   \n",
       "\n",
       "                                                           Agency Name  \\\n",
       "Created Date                                                             \n",
       "2011-04-06 00:00:00  Department of Housing Preservation and Develop...   \n",
       "2011-04-06 00:00:00  Department of Housing Preservation and Develop...   \n",
       "2011-04-06 00:00:00  Department of Housing Preservation and Develop...   \n",
       "2022-07-08 11:14:43                           Department of Sanitation   \n",
       "2011-04-06 00:00:00  Department of Housing Preservation and Develop...   \n",
       "\n",
       "                           Complaint Type Descriptor         Location Type  \\\n",
       "Created Date                                                                 \n",
       "2011-04-06 00:00:00               HEATING       HEAT  RESIDENTIAL BUILDING   \n",
       "2011-04-06 00:00:00  GENERAL CONSTRUCTION    WINDOWS  RESIDENTIAL BUILDING   \n",
       "2011-04-06 00:00:00       PAINT - PLASTER      WALLS  RESIDENTIAL BUILDING   \n",
       "2022-07-08 11:14:43       Dirty Condition      Trash              Sidewalk   \n",
       "2011-04-06 00:00:00              NONCONST     VERMIN  RESIDENTIAL BUILDING   \n",
       "\n",
       "                    Incident Zip      City  \\\n",
       "Created Date                                 \n",
       "2011-04-06 00:00:00      10002.0  NEW YORK   \n",
       "2011-04-06 00:00:00      11236.0  BROOKLYN   \n",
       "2011-04-06 00:00:00      10460.0     BRONX   \n",
       "2022-07-08 11:14:43      10467.0     BRONX   \n",
       "2011-04-06 00:00:00      10460.0     BRONX   \n",
       "\n",
       "                                                Resolution Description  \\\n",
       "Created Date                                                             \n",
       "2011-04-06 00:00:00  More than one complaint was received for this ...   \n",
       "2011-04-06 00:00:00  The Department of Housing Preservation and Dev...   \n",
       "2011-04-06 00:00:00  The Department of Housing Preservation and Dev...   \n",
       "2022-07-08 11:14:43  The Department of Sanitation investigated this...   \n",
       "2011-04-06 00:00:00  The Department of Housing Preservation and Dev...   \n",
       "\n",
       "                       Borough Open Data Channel Type  \n",
       "Created Date                                           \n",
       "2011-04-06 00:00:00  MANHATTAN                UNKNOWN  \n",
       "2011-04-06 00:00:00   BROOKLYN                UNKNOWN  \n",
       "2011-04-06 00:00:00      BRONX                UNKNOWN  \n",
       "2022-07-08 11:14:43      BRONX                  PHONE  \n",
       "2011-04-06 00:00:00      BRONX                UNKNOWN  "
      ]
     },
     "execution_count": 6,
     "metadata": {},
     "output_type": "execute_result"
    }
   ],
   "source": [
    "df.head()"
   ]
  },
  {
   "cell_type": "code",
   "execution_count": 7,
   "id": "447a3439-bf12-41e3-a221-ace2ca3bbae2",
   "metadata": {
    "tags": []
   },
   "outputs": [
    {
     "data": {
      "text/plain": [
       "Complaint Type\n",
       "Noise - Residential               3131834\n",
       "Illegal Parking                   2110646\n",
       "HEAT/HOT WATER                    1983520\n",
       "Blocked Driveway                  1439795\n",
       "Street Condition                  1212154\n",
       "                                   ...   \n",
       "c:\\windows\\win.ini                      1\n",
       "idexf3mrb7)(!(objectClass=*)            1\n",
       "%E5%98%8A%E5%98%8DX-Injecti...          1\n",
       "() { :;}; /bin/sleep 11                 1\n",
       "Misc. Comments{${sleep(20)}}            1\n",
       "Name: count, Length: 485, dtype: int64"
      ]
     },
     "execution_count": 7,
     "metadata": {},
     "output_type": "execute_result"
    }
   ],
   "source": [
    "complaint_counts = df['Complaint Type'].value_counts()\n",
    "complaint_counts"
   ]
  },
  {
   "cell_type": "code",
   "execution_count": 8,
   "id": "c362c252-89cd-4d89-bc4c-d53c1b1ea0e6",
   "metadata": {
    "tags": []
   },
   "outputs": [
    {
     "data": {
      "text/plain": [
       "array(['HEAT', 'WINDOWS', 'WALLS', ..., 'Chemical Odor',\n",
       "       'Explosive/Weapons of Mass Destruction',\n",
       "       'Obtaining Health Insurance'], dtype=object)"
      ]
     },
     "execution_count": 8,
     "metadata": {},
     "output_type": "execute_result"
    }
   ],
   "source": [
    "unique_descriptions = df['Descriptor'].unique()\n",
    "unique_descriptions"
   ]
  },
  {
   "cell_type": "code",
   "execution_count": 9,
   "id": "a4749f4d-1e3d-4d8c-8c38-916d53030689",
   "metadata": {
    "tags": []
   },
   "outputs": [
    {
     "data": {
      "text/plain": [
       "Timestamp('2010-01-01 00:00:00')"
      ]
     },
     "execution_count": 9,
     "metadata": {},
     "output_type": "execute_result"
    }
   ],
   "source": [
    "earliest_date = df.index.min()\n",
    "earliest_date\n"
   ]
  },
  {
   "cell_type": "code",
   "execution_count": 10,
   "id": "3a932700-96dc-4f32-b9ec-a3935cdd4664",
   "metadata": {
    "tags": []
   },
   "outputs": [
    {
     "data": {
      "text/plain": [
       "Timestamp('2023-08-04 12:00:00')"
      ]
     },
     "execution_count": 10,
     "metadata": {},
     "output_type": "execute_result"
    }
   ],
   "source": [
    "latest_date = df.index.max()\n",
    "latest_date"
   ]
  },
  {
   "cell_type": "code",
   "execution_count": 11,
   "id": "b0930ee3-587c-4eaa-b35c-fe318a26c1bd",
   "metadata": {
    "tags": []
   },
   "outputs": [
    {
     "data": {
      "text/plain": [
       "Unique Key                      0\n",
       "Agency                          0\n",
       "Agency Name                     0\n",
       "Complaint Type                  0\n",
       "Descriptor                 586677\n",
       "Location Type             7140574\n",
       "Incident Zip              1507958\n",
       "City                      1981664\n",
       "Resolution Description    1254890\n",
       "Borough                     47074\n",
       "Open Data Channel Type          0\n",
       "dtype: int64"
      ]
     },
     "execution_count": 11,
     "metadata": {},
     "output_type": "execute_result"
    }
   ],
   "source": [
    "nan_counts = df.isnull().sum()\n",
    "nan_counts"
   ]
  },
  {
   "cell_type": "markdown",
   "id": "ab773868-7f79-4836-8766-21945530a973",
   "metadata": {},
   "source": [
    "## Q1. What is the average number of daily complaints received in 2022?"
   ]
  },
  {
   "cell_type": "code",
   "execution_count": 4,
   "id": "993eeb18-83f8-460e-9f15-030afa4c3892",
   "metadata": {
    "tags": []
   },
   "outputs": [],
   "source": [
    "df.index = pd.to_datetime(df.index)"
   ]
  },
  {
   "cell_type": "code",
   "execution_count": 16,
   "id": "480606d9-662d-4e77-bccc-a4a0b7fdb89a",
   "metadata": {
    "tags": []
   },
   "outputs": [],
   "source": [
    "df_2022 = df[df.index.year == 2022]"
   ]
  },
  {
   "cell_type": "code",
   "execution_count": 17,
   "id": "039967ea-53ff-40bb-a7f0-ca1204e2c42a",
   "metadata": {
    "tags": []
   },
   "outputs": [],
   "source": [
    "daily_complaints_2022 = df_2022['Unique Key'].resample('D').count()"
   ]
  },
  {
   "cell_type": "code",
   "execution_count": 18,
   "id": "4617fc0d-086f-4161-9417-ad4575f5bd48",
   "metadata": {
    "tags": []
   },
   "outputs": [],
   "source": [
    "average_daily_complaints_2022 = daily_complaints_2022.mean()"
   ]
  },
  {
   "cell_type": "code",
   "execution_count": 19,
   "id": "bbac393a-9759-4c10-b0d7-2390dab4be86",
   "metadata": {
    "tags": []
   },
   "outputs": [
    {
     "data": {
      "text/plain": [
       "8684.320547945206"
      ]
     },
     "execution_count": 19,
     "metadata": {},
     "output_type": "execute_result"
    }
   ],
   "source": [
    "average_daily_complaints_2022"
   ]
  },
  {
   "cell_type": "markdown",
   "id": "4fc02c56-6550-4bf3-95d4-097469eddcb2",
   "metadata": {},
   "source": [
    "## Q2. Which date had the maximum number of calls received?"
   ]
  },
  {
   "cell_type": "code",
   "execution_count": 4,
   "id": "aa547427-382c-446e-adb7-47a5ee95466d",
   "metadata": {
    "tags": []
   },
   "outputs": [],
   "source": [
    "df.index = pd.to_datetime(df.index)"
   ]
  },
  {
   "cell_type": "code",
   "execution_count": 5,
   "id": "191cb9c4-40de-4c38-ad3e-83f834669dc9",
   "metadata": {
    "tags": []
   },
   "outputs": [],
   "source": [
    "daily_calls = df.groupby(df.index.date).size()\n"
   ]
  },
  {
   "cell_type": "code",
   "execution_count": 6,
   "id": "f8a6dc66-5dd6-434d-a261-c907af936e1d",
   "metadata": {
    "tags": []
   },
   "outputs": [],
   "source": [
    "max_calls_date = daily_calls.idxmax()"
   ]
  },
  {
   "cell_type": "code",
   "execution_count": 7,
   "id": "a6c3c774-a4f2-48f5-b17e-f1c18e89345c",
   "metadata": {
    "tags": []
   },
   "outputs": [
    {
     "data": {
      "text/plain": [
       "datetime.date(2020, 8, 4)"
      ]
     },
     "execution_count": 7,
     "metadata": {},
     "output_type": "execute_result"
    }
   ],
   "source": [
    "max_calls_date"
   ]
  },
  {
   "cell_type": "markdown",
   "id": "16d9c58c-d94e-4d8b-a6af-b24bb3acb641",
   "metadata": {},
   "source": [
    "## Q3. On the date the maximum number of calls were received, what was the most important complaint type?"
   ]
  },
  {
   "cell_type": "code",
   "execution_count": null,
   "id": "5ff71260-7018-4012-b0a8-fd8d71dc37a9",
   "metadata": {},
   "outputs": [],
   "source": [
    "df.index = pd.to_datetime(df.index)"
   ]
  },
  {
   "cell_type": "code",
   "execution_count": null,
   "id": "330476bd-dd96-4f92-a260-9148b9bc2275",
   "metadata": {},
   "outputs": [],
   "source": [
    "daily_calls = df.groupby(df.index.date).size()"
   ]
  },
  {
   "cell_type": "code",
   "execution_count": null,
   "id": "57007f06-1007-4b54-8777-d8b3e29f3f94",
   "metadata": {},
   "outputs": [],
   "source": [
    "max_calls_date = daily_calls.idxmax()"
   ]
  },
  {
   "cell_type": "code",
   "execution_count": 8,
   "id": "635fea39-9938-45e2-9458-9ec11ce8a2a7",
   "metadata": {
    "tags": []
   },
   "outputs": [],
   "source": [
    "max_calls_data = df[df.index.date == max_calls_date]"
   ]
  },
  {
   "cell_type": "code",
   "execution_count": 9,
   "id": "3f530b6d-8195-4a8a-bf56-fcc085611332",
   "metadata": {
    "tags": []
   },
   "outputs": [],
   "source": [
    "most_common_complaint = max_calls_data['Complaint Type'].mode().values[0]"
   ]
  },
  {
   "cell_type": "code",
   "execution_count": 10,
   "id": "f99a4b84-cd24-4b59-8729-b9b35439c210",
   "metadata": {
    "tags": []
   },
   "outputs": [
    {
     "data": {
      "text/plain": [
       "'Damaged Tree'"
      ]
     },
     "execution_count": 10,
     "metadata": {},
     "output_type": "execute_result"
    }
   ],
   "source": [
    "most_common_complaint"
   ]
  },
  {
   "cell_type": "markdown",
   "id": "b84a6da2-90dd-46a7-8544-6103c72dcc21",
   "metadata": {},
   "source": [
    "## Q4. Quietest month: Group the data by months, and identify the month that historically has the fewest number of calls."
   ]
  },
  {
   "cell_type": "code",
   "execution_count": 11,
   "id": "82b75ad5-f3ae-4ac7-a57f-9dd1b2ac6a07",
   "metadata": {
    "tags": []
   },
   "outputs": [],
   "source": [
    "df.index = pd.to_datetime(df.index)"
   ]
  },
  {
   "cell_type": "code",
   "execution_count": 12,
   "id": "6e8c7e95-b1f9-4b57-8f40-71ef16e4f95d",
   "metadata": {
    "tags": []
   },
   "outputs": [],
   "source": [
    "df['Month'] = df.index.to_period('M')"
   ]
  },
  {
   "cell_type": "code",
   "execution_count": 13,
   "id": "c63c4044-44bd-40b4-9f6e-cf4960d61372",
   "metadata": {
    "tags": []
   },
   "outputs": [],
   "source": [
    "monthly_calls = df.groupby('Month').size()"
   ]
  },
  {
   "cell_type": "code",
   "execution_count": 14,
   "id": "e2ea22cf-1365-459b-acc2-61e454c1a2d0",
   "metadata": {
    "tags": []
   },
   "outputs": [],
   "source": [
    "quietest_month = monthly_calls.idxmin()"
   ]
  },
  {
   "cell_type": "code",
   "execution_count": 15,
   "id": "16fda3a3-076f-44aa-9ce0-549818cbe909",
   "metadata": {
    "tags": []
   },
   "outputs": [
    {
     "data": {
      "text/plain": [
       "Period('2023-08', 'M')"
      ]
     },
     "execution_count": 15,
     "metadata": {},
     "output_type": "execute_result"
    }
   ],
   "source": [
    "quietest_month"
   ]
  },
  {
   "cell_type": "markdown",
   "id": "56b14377-26c5-4d2c-ba35-45e1a1cb9cd8",
   "metadata": {},
   "source": [
    "## Q5. Resample your time series to a daily frequency. Perform ETS decomposition based on an additive model. What is the value of the seasonal component on 2020-12-25."
   ]
  },
  {
   "cell_type": "code",
   "execution_count": 1,
   "id": "be889776-92f7-433b-9adb-ba37647eb89b",
   "metadata": {},
   "outputs": [],
   "source": [
    "import pandas as pd\n",
    "import matplotlib.pyplot as plt\n",
    "from statsmodels.tsa.seasonal import seasonal_decompose"
   ]
  },
  {
   "cell_type": "code",
   "execution_count": 6,
   "id": "d876b7eb-9835-490b-920c-6276d08c2de8",
   "metadata": {},
   "outputs": [],
   "source": [
    "df['Created Date'] = pd.to_datetime(df['Created Date'])\n"
   ]
  },
  {
   "cell_type": "code",
   "execution_count": 7,
   "id": "2a4cf31d-177f-4aec-8ba8-c2c39d3de6f7",
   "metadata": {
    "tags": []
   },
   "outputs": [],
   "source": [
    "df = df.set_index('Created Date')"
   ]
  },
  {
   "cell_type": "code",
   "execution_count": 5,
   "id": "b2f78aec-f603-41a1-ad51-65768389b02b",
   "metadata": {
    "tags": []
   },
   "outputs": [],
   "source": [
    "daily_complaints = df['Unique Key'].resample('D').count()\n"
   ]
  },
  {
   "cell_type": "code",
   "execution_count": 6,
   "id": "3146fd09-1c21-424b-956a-dd6f1dc9c0f8",
   "metadata": {
    "tags": []
   },
   "outputs": [],
   "source": [
    "result = seasonal_decompose(daily_complaints, model='additive')\n"
   ]
  },
  {
   "cell_type": "code",
   "execution_count": 7,
   "id": "2259787a-f297-454f-928e-741c60fa05dd",
   "metadata": {
    "tags": []
   },
   "outputs": [],
   "source": [
    "selected_date = '2020-12-25'\n",
    "rounded_seasonal_component = round(result.seasonal.loc[selected_date])"
   ]
  },
  {
   "cell_type": "code",
   "execution_count": 8,
   "id": "d902fb48-2e2f-4fb7-b20e-2b9972906997",
   "metadata": {
    "tags": []
   },
   "outputs": [
    {
     "data": {
      "text/plain": [
       "183"
      ]
     },
     "execution_count": 8,
     "metadata": {},
     "output_type": "execute_result"
    }
   ],
   "source": [
    "rounded_seasonal_component"
   ]
  },
  {
   "cell_type": "markdown",
   "id": "2cc81336-60ca-4439-9ae2-238c38e0f096",
   "metadata": {},
   "source": [
    "## Q6. Calculate the autocorrelation of the number of daily calls with the number of calls the day prior."
   ]
  },
  {
   "cell_type": "code",
   "execution_count": 12,
   "id": "8433fbf3-f7da-49ac-b0a9-e870ae2a8f2a",
   "metadata": {
    "tags": []
   },
   "outputs": [],
   "source": [
    "daily_calls = df['Unique Key'].resample('D').count()\n"
   ]
  },
  {
   "cell_type": "code",
   "execution_count": 13,
   "id": "6e476685-a2b0-425a-b6d3-17ea6d8cc05f",
   "metadata": {
    "tags": []
   },
   "outputs": [],
   "source": [
    "autocorr_lag1 = daily_calls.autocorr(lag=1)"
   ]
  },
  {
   "cell_type": "code",
   "execution_count": 14,
   "id": "d2e3f970-c0c2-4b9e-a334-c2174fdde284",
   "metadata": {
    "tags": []
   },
   "outputs": [
    {
     "data": {
      "text/plain": [
       "0.7517059728398577"
      ]
     },
     "execution_count": 14,
     "metadata": {},
     "output_type": "execute_result"
    }
   ],
   "source": [
    "autocorr_lag1"
   ]
  },
  {
   "cell_type": "markdown",
   "id": "e317137b-35a9-422a-999f-aff020abb8f4",
   "metadata": {},
   "source": [
    "## Q7. Forecast the daily series with a test set of 90 days using the Prophet library. What is your RMSE on your test set?"
   ]
  },
  {
   "cell_type": "code",
   "execution_count": 22,
   "id": "b621a415-1516-48a2-ab61-1367bb95c2bd",
   "metadata": {
    "tags": []
   },
   "outputs": [
    {
     "name": "stdout",
     "output_type": "stream",
     "text": [
      "Defaulting to user installation because normal site-packages is not writeable\n",
      "Requirement already satisfied: prophet in /opt/conda/envs/mggy8413/lib/python3.10/site-packages (1.1.4)\n",
      "Requirement already satisfied: cmdstanpy>=1.0.4 in /opt/conda/envs/mggy8413/lib/python3.10/site-packages (from prophet) (1.1.0)\n",
      "Requirement already satisfied: numpy>=1.15.4 in /opt/conda/envs/mggy8413/lib/python3.10/site-packages (from prophet) (1.23.5)\n",
      "Requirement already satisfied: matplotlib>=2.0.0 in /opt/conda/envs/mggy8413/lib/python3.10/site-packages (from prophet) (3.7.2)\n",
      "Requirement already satisfied: pandas>=1.0.4 in /opt/conda/envs/mggy8413/lib/python3.10/site-packages (from prophet) (2.0.3)\n",
      "Requirement already satisfied: LunarCalendar>=0.0.9 in /opt/conda/envs/mggy8413/lib/python3.10/site-packages (from prophet) (0.0.9)\n",
      "Requirement already satisfied: convertdate>=2.1.2 in /opt/conda/envs/mggy8413/lib/python3.10/site-packages (from prophet) (2.4.0)\n",
      "Requirement already satisfied: holidays>=0.25 in /opt/conda/envs/mggy8413/lib/python3.10/site-packages (from prophet) (0.30)\n",
      "Requirement already satisfied: python-dateutil>=2.8.0 in /opt/conda/envs/mggy8413/lib/python3.10/site-packages (from prophet) (2.8.2)\n",
      "Requirement already satisfied: tqdm>=4.36.1 in /opt/conda/envs/mggy8413/lib/python3.10/site-packages (from prophet) (4.66.1)\n",
      "Requirement already satisfied: importlib-resources in /opt/conda/envs/mggy8413/lib/python3.10/site-packages (from prophet) (6.0.1)\n",
      "Requirement already satisfied: pymeeus<=1,>=0.3.13 in /opt/conda/envs/mggy8413/lib/python3.10/site-packages (from convertdate>=2.1.2->prophet) (0.5.12)\n",
      "Requirement already satisfied: ephem>=3.7.5.3 in /opt/conda/envs/mggy8413/lib/python3.10/site-packages (from LunarCalendar>=0.0.9->prophet) (4.1.4)\n",
      "Requirement already satisfied: pytz in /opt/conda/envs/mggy8413/lib/python3.10/site-packages (from LunarCalendar>=0.0.9->prophet) (2023.3)\n",
      "Requirement already satisfied: contourpy>=1.0.1 in /opt/conda/envs/mggy8413/lib/python3.10/site-packages (from matplotlib>=2.0.0->prophet) (1.1.0)\n",
      "Requirement already satisfied: cycler>=0.10 in /opt/conda/envs/mggy8413/lib/python3.10/site-packages (from matplotlib>=2.0.0->prophet) (0.11.0)\n",
      "Requirement already satisfied: fonttools>=4.22.0 in /opt/conda/envs/mggy8413/lib/python3.10/site-packages (from matplotlib>=2.0.0->prophet) (4.42.0)\n",
      "Requirement already satisfied: kiwisolver>=1.0.1 in /opt/conda/envs/mggy8413/lib/python3.10/site-packages (from matplotlib>=2.0.0->prophet) (1.4.4)\n",
      "Requirement already satisfied: packaging>=20.0 in /opt/conda/envs/mggy8413/lib/python3.10/site-packages (from matplotlib>=2.0.0->prophet) (23.1)\n",
      "Requirement already satisfied: pillow>=6.2.0 in /opt/conda/envs/mggy8413/lib/python3.10/site-packages (from matplotlib>=2.0.0->prophet) (10.0.0)\n",
      "Requirement already satisfied: pyparsing<3.1,>=2.3.1 in /opt/conda/envs/mggy8413/lib/python3.10/site-packages (from matplotlib>=2.0.0->prophet) (3.0.9)\n",
      "Requirement already satisfied: tzdata>=2022.1 in /opt/conda/envs/mggy8413/lib/python3.10/site-packages (from pandas>=1.0.4->prophet) (2023.3)\n",
      "Requirement already satisfied: six>=1.5 in /opt/conda/envs/mggy8413/lib/python3.10/site-packages (from python-dateutil>=2.8.0->prophet) (1.16.0)\n",
      "Note: you may need to restart the kernel to use updated packages.\n"
     ]
    }
   ],
   "source": [
    "%pip install prophet"
   ]
  },
  {
   "cell_type": "code",
   "execution_count": 4,
   "id": "61a9479e-7b32-4a74-8219-2e395b3e933f",
   "metadata": {
    "tags": []
   },
   "outputs": [],
   "source": [
    "import pandas as pd\n",
    "from prophet import Prophet\n",
    "from sklearn.metrics import mean_squared_error\n",
    "from math import sqrt"
   ]
  },
  {
   "cell_type": "code",
   "execution_count": 8,
   "id": "f737342f-bc7c-46fa-8751-192644444f6d",
   "metadata": {
    "tags": []
   },
   "outputs": [],
   "source": [
    "daily_calls = df['Unique Key'].resample('D').count().reset_index()"
   ]
  },
  {
   "cell_type": "code",
   "execution_count": 9,
   "id": "230eb18f-00a0-4b59-a406-d04d93f98933",
   "metadata": {
    "tags": []
   },
   "outputs": [],
   "source": [
    "daily_calls.columns = ['ds', 'y']"
   ]
  },
  {
   "cell_type": "code",
   "execution_count": 10,
   "id": "bfbaeeb9-dd90-4b91-a704-202f75111083",
   "metadata": {
    "tags": []
   },
   "outputs": [],
   "source": [
    "daily_calls['ds'] = pd.to_datetime(daily_calls['ds'])"
   ]
  },
  {
   "cell_type": "code",
   "execution_count": 11,
   "id": "f3c632de-01e9-4ae7-b0cf-75a3c9746cd1",
   "metadata": {
    "tags": []
   },
   "outputs": [],
   "source": [
    "train = daily_calls.iloc[:-90]\n",
    "test = daily_calls.iloc[-90:]"
   ]
  },
  {
   "cell_type": "code",
   "execution_count": 12,
   "id": "0e568ff0-edce-45d1-886c-c42ef3b948e3",
   "metadata": {
    "tags": []
   },
   "outputs": [],
   "source": [
    "model = Prophet()"
   ]
  },
  {
   "cell_type": "code",
   "execution_count": 13,
   "id": "43c037a7-74dc-46f3-9caa-21af1a775ee2",
   "metadata": {
    "tags": []
   },
   "outputs": [
    {
     "name": "stderr",
     "output_type": "stream",
     "text": [
      "00:22:56 - cmdstanpy - INFO - Chain [1] start processing\n",
      "00:22:57 - cmdstanpy - INFO - Chain [1] done processing\n"
     ]
    },
    {
     "data": {
      "text/plain": [
       "<prophet.forecaster.Prophet at 0x7f2467bd6110>"
      ]
     },
     "execution_count": 13,
     "metadata": {},
     "output_type": "execute_result"
    }
   ],
   "source": [
    "model.fit(train)"
   ]
  },
  {
   "cell_type": "code",
   "execution_count": 14,
   "id": "50f1c395-b701-406c-aae0-1007dd57e9d7",
   "metadata": {
    "tags": []
   },
   "outputs": [],
   "source": [
    "future = model.make_future_dataframe(periods=90)"
   ]
  },
  {
   "cell_type": "code",
   "execution_count": 15,
   "id": "52bdd6b6-a40e-4b26-997a-6759c20bf05f",
   "metadata": {
    "tags": []
   },
   "outputs": [],
   "source": [
    "forecast = model.predict(future)"
   ]
  },
  {
   "cell_type": "code",
   "execution_count": 16,
   "id": "c9f8a388-e674-4b40-a1dc-56eddb220d4a",
   "metadata": {
    "tags": []
   },
   "outputs": [],
   "source": [
    "forecast_test = forecast[-90:]"
   ]
  },
  {
   "cell_type": "code",
   "execution_count": 17,
   "id": "cb3128d6-5d61-4f8f-8413-52cc93ea3222",
   "metadata": {
    "tags": []
   },
   "outputs": [],
   "source": [
    "rmse = sqrt(mean_squared_error(test['y'], forecast_test['yhat']))"
   ]
  },
  {
   "cell_type": "code",
   "execution_count": 18,
   "id": "5157f592-6fcc-4e7d-ac3d-f546f750b742",
   "metadata": {
    "tags": []
   },
   "outputs": [
    {
     "data": {
      "text/plain": [
       "1231.513760758433"
      ]
     },
     "execution_count": 18,
     "metadata": {},
     "output_type": "execute_result"
    }
   ],
   "source": [
    "rmse"
   ]
  },
  {
   "cell_type": "markdown",
   "id": "2b71f678",
   "metadata": {},
   "source": [
    "***\n",
    "**END**"
   ]
  },
  {
   "cell_type": "code",
   "execution_count": null,
   "id": "f7d9b060",
   "metadata": {},
   "outputs": [],
   "source": []
  }
 ],
 "metadata": {
  "kernelspec": {
   "display_name": "Python 3 (ipykernel)",
   "language": "python",
   "name": "python3"
  },
  "language_info": {
   "codemirror_mode": {
    "name": "ipython",
    "version": 3
   },
   "file_extension": ".py",
   "mimetype": "text/x-python",
   "name": "python",
   "nbconvert_exporter": "python",
   "pygments_lexer": "ipython3",
   "version": "3.11.5"
  }
 },
 "nbformat": 4,
 "nbformat_minor": 5
}
